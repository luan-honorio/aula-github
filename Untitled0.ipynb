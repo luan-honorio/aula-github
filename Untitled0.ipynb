{
  "nbformat": 4,
  "nbformat_minor": 0,
  "metadata": {
    "colab": {
      "name": "Untitled0.ipynb",
      "provenance": [],
      "collapsed_sections": [],
      "authorship_tag": "ABX9TyOtPo7XQ7AqeNEq6XhUG4Se",
      "include_colab_link": true
    },
    "kernelspec": {
      "name": "python3",
      "display_name": "Python 3"
    },
    "language_info": {
      "name": "python"
    }
  },
  "cells": [
    {
      "cell_type": "markdown",
      "metadata": {
        "id": "view-in-github",
        "colab_type": "text"
      },
      "source": [
        "<a href=\"https://colab.research.google.com/github/luan-honorio/aula-github/blob/main/Untitled0.ipynb\" target=\"_parent\"><img src=\"https://colab.research.google.com/assets/colab-badge.svg\" alt=\"Open In Colab\"/></a>"
      ]
    },
    {
      "cell_type": "code",
      "source": [
        "print('olá mundo ')"
      ],
      "metadata": {
        "id": "BvkCu25ch-8X",
        "colab": {
          "base_uri": "https://localhost:8080/"
        },
        "outputId": "c956727f-6a62-4798-9789-fd87db65f4e6"
      },
      "execution_count": null,
      "outputs": [
        {
          "output_type": "stream",
          "name": "stdout",
          "text": [
            "olá mundo \n"
          ]
        }
      ]
    },
    {
      "cell_type": "code",
      "source": [
        "a = int(input('digite um numero: '))\n",
        "b = int(input('digite um numero: '))\n",
        "soma = a + b \n",
        "sub = a - b\n",
        "pot = a*a\n",
        "\n",
        "print ('soma é ',soma,'\\nsub é ', sub)\n",
        "print ('pot é ', pot)\n"
      ],
      "metadata": {
        "colab": {
          "base_uri": "https://localhost:8080/"
        },
        "id": "txzTG3w-DvOt",
        "outputId": "6f7a5c1e-c118-4aa5-8336-667140cdd972"
      },
      "execution_count": null,
      "outputs": [
        {
          "output_type": "stream",
          "name": "stdout",
          "text": [
            "digite um numero: 1\n",
            "digite um numero: 57\n",
            "soma é  58 \n",
            "sub é  -56\n",
            "pot é  1\n"
          ]
        }
      ]
    },
    {
      "cell_type": "code",
      "source": [
        "lucas = 1,72\n",
        "luan = 1,70\n",
        "if (luan>lucas):\n",
        "  print ('o maior é luan')\n",
        "else: \n",
        "  print ('o maior é lucas')\n"
      ],
      "metadata": {
        "colab": {
          "base_uri": "https://localhost:8080/"
        },
        "id": "n8FxddF9FpgN",
        "outputId": "e3eefb3d-ea94-47bc-83fd-f7f6371062a1"
      },
      "execution_count": null,
      "outputs": [
        {
          "output_type": "stream",
          "name": "stdout",
          "text": [
            "o maior é lucas\n"
          ]
        }
      ]
    },
    {
      "cell_type": "code",
      "source": [
        "nome = input('Digite seu nome ')\n",
        "senha  = input('digite sua senha ')\n",
        "conf = input(\"confirme sua senha \") \n",
        "\n",
        "if ( senha == conf):       \n",
        "  print ('confirmado ')     \n",
        "else:\n",
        "  print ('As senhas nao sao iguais, verifique! ' )"
      ],
      "metadata": {
        "colab": {
          "base_uri": "https://localhost:8080/"
        },
        "id": "F0wEN-4jV2ac",
        "outputId": "44a8faf2-5587-4757-a81b-b598b4169248"
      },
      "execution_count": null,
      "outputs": [
        {
          "output_type": "stream",
          "name": "stdout",
          "text": [
            "Digite seu nome r\n",
            "digite sua senha r\n",
            "confirme sua senha t\n",
            "As senhas nao sao iguais, verifique! \n"
          ]
        }
      ]
    },
    {
      "cell_type": "code",
      "source": [
        "nota1 = int(input(\"nota de miguel \"))\n",
        "nota2 = int(input('nota do lucas ' ))\n",
        "\n",
        "clear_output()\n",
        "if (nota1 >= 6):\n",
        "  print ('miguel aprovado')\n",
        "else:\n",
        "  print ('miguel reprovado')\n",
        "  \n",
        "if (nota2 >= 6):\n",
        "    print ('lucas aprovado')\n",
        "else:\n",
        "    print('lucas rerovado' )\n",
        "    "
      ],
      "metadata": {
        "id": "BptY0gO7k4xt"
      },
      "execution_count": null,
      "outputs": []
    },
    {
      "cell_type": "code",
      "source": [
        ""
      ],
      "metadata": {
        "id": "L8mLqg5bQDHe"
      },
      "execution_count": null,
      "outputs": []
    },
    {
      "cell_type": "markdown",
      "source": [
        "aprove e reprove"
      ],
      "metadata": {
        "id": "K2s5pbsk-P0c"
      }
    },
    {
      "cell_type": "code",
      "source": [
        "\n",
        "vlr = int(input(\"valor \"))\n",
        "ads = int(input(\"porcentadem \"))\n",
        "\n",
        "valorfinal = (vlr*ads/100)\n",
        "print ( '% de ',ads 'é ',valorfinal)\n"
      ],
      "metadata": {
        "id": "8bmyBXeY8TiZ"
      },
      "execution_count": null,
      "outputs": []
    },
    {
      "cell_type": "code",
      "source": [
        "n1 = float(input('av1 '))\n",
        "n2 = float(input('av2 '))\n",
        "n3 = float(input('av3 '))\n",
        "\n",
        "sm = (n1 + n2 + n3)\n",
        "med = (sm/3)\n",
        "print ('soma é ',sm,'\\nmedia final é', med) \n",
        "clear_output()\n",
        "if (sm >= 6 ):\n",
        "  print('aprovado')\n",
        "else:\n",
        "  print('recuperação')\n"
      ],
      "metadata": {
        "colab": {
          "base_uri": "https://localhost:8080/"
        },
        "id": "fWNdGWPl_IzU",
        "outputId": "5861ef27-e2e6-4b4c-d81e-47a423a42349"
      },
      "execution_count": null,
      "outputs": [
        {
          "output_type": "stream",
          "name": "stdout",
          "text": [
            "av1 1\n",
            "av2 3\n",
            "av3 1\n",
            "soma é  5.0 \n",
            "media final é 1.6666666666666667\n",
            "recuperação\n"
          ]
        }
      ]
    },
    {
      "cell_type": "code",
      "source": [
        ""
      ],
      "metadata": {
        "id": "sbZY6YxYu9Pa"
      },
      "execution_count": null,
      "outputs": []
    },
    {
      "cell_type": "markdown",
      "source": [
        "portifolio "
      ],
      "metadata": {
        "id": "S4jrMB0fvQT9"
      }
    },
    {
      "cell_type": "code",
      "source": [
        "av1 = float(input('digite nota av1 '))\n",
        "av2 = float(input('digite nota av2 '))\n",
        "av3 = float(input('digite nota av3 '))\n",
        "avt = float(input('digite nota avt ')) \n",
        "port = int(input('digite a nota do portifolio '))\n",
        "sm = (av1 + av2 + av3 + avt )\n",
        "clear_output()\n",
        "if (sm <= port):\n",
        "  print('sua nota foi', port)\n",
        "else:\n",
        "  print ('sua nota é ', sm)\n"
      ],
      "metadata": {
        "colab": {
          "base_uri": "https://localhost:8080/"
        },
        "id": "PfG05Kk-vNst",
        "outputId": "9cc1d618-db2b-4317-90d4-99c4edb4525c"
      },
      "execution_count": null,
      "outputs": [
        {
          "output_type": "stream",
          "name": "stdout",
          "text": [
            "sua nota é  8.0\n"
          ]
        }
      ]
    },
    {
      "cell_type": "code",
      "source": [
        "from IPython.core.display import clear_output\n",
        "nome = input('digite seu nome ')\n",
        "num = float(input('digite seu numero '))\n",
        "\n",
        "clear_output()\n",
        "if (num >= 50 ):\n",
        "  print( ' vc é lindE')\n",
        "else:\n",
        "  print('voce é feiE')"
      ],
      "metadata": {
        "colab": {
          "base_uri": "https://localhost:8080/"
        },
        "id": "kZJtsEcs0Esf",
        "outputId": "0077e090-afc2-4b7f-f8d2-6ebdba3998ce"
      },
      "execution_count": null,
      "outputs": [
        {
          "output_type": "stream",
          "name": "stdout",
          "text": [
            "voce é feiE\n"
          ]
        }
      ]
    },
    {
      "cell_type": "code",
      "source": [
        "n = input('nome do crliente: ')\n",
        "c = input('celular: ')\n",
        "e = input('endereço: ')\n",
        "q = int(input('quantidade; '))\n",
        "vp = float(input('\\nalor da peça: '))\n",
        "vu = q*vp\n",
        "print('\\no valor total é ',vu,\"R$\")\n",
        "p = int(input('\\nForms de pagamento 1=pix 2= dinheiro 3=cartao '))\n",
        "if (p == 1 ):\n",
        "  print('\\nchave pix: cpf-> 103689134-81')\n",
        "elif (p == 2):\n",
        "  print('\\ndinheiro' )\n",
        "else:\n",
        "  print( '\\ncartao ')\n",
        "an= input('\\nanotaçao ')\n",
        "vca= vu/2\n",
        "print('\\no valor com 50% é ', vca , 'R$')\n",
        "input('\\ndata de entrega ')\n",
        "print('\\nobrigado pela preferencia! ')"
      ],
      "metadata": {
        "id": "6vYUiPDvlqPf",
        "colab": {
          "base_uri": "https://localhost:8080/"
        },
        "outputId": "952c5337-d63b-4bd9-b3fc-6e0a6ed6e601"
      },
      "execution_count": null,
      "outputs": [
        {
          "output_type": "stream",
          "name": "stdout",
          "text": [
            "nome do crliente: s\n",
            "celular: 33\n",
            "endereço: e\n",
            "quantidade; 3\n",
            "\n",
            "alor da peça: 4\n",
            "\n",
            "o valor total é  12.0 R$\n",
            "\n",
            "Forms de pagamento 1=pix 2= dinheiro 3=cartao 3\n",
            "\n",
            "cartao \n",
            "\n",
            "anotaçao sasmsi\n",
            "\n",
            "o valor com 50% é  6.0 R$\n",
            "\n",
            "data de entrega 21928\n",
            "\n",
            "obrigado pela preferencia! \n"
          ]
        }
      ]
    },
    {
      "cell_type": "code",
      "source": [
        " f"
      ],
      "metadata": {
        "id": "_ZAYpshrpQxe"
      },
      "execution_count": null,
      "outputs": []
    }
  ]
}